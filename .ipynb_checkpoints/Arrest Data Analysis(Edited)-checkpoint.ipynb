{
 "cells": [
  {
   "cell_type": "markdown",
   "id": "aafa53c8-4bef-4ed9-a324-19c88ecfa99d",
   "metadata": {},
   "source": [
    "# Arrest data in NYC, an exploration and regression analysis\n",
    "## Author: Jack Robbins"
   ]
  },
  {
   "cell_type": "code",
   "execution_count": 1,
   "id": "8f446f30-393b-402d-b1af-57b636422382",
   "metadata": {},
   "outputs": [],
   "source": [
    "# Important imports\n",
    "import pandas as pd\n",
    "import numpy as np\n",
    "import matplotlib.pyplot as plt\n",
    "import seaborn as sns\n",
    "from IPython.display import display, HTML\n",
    "from sklearn import preprocessing\n",
    "from matplotlib.gridspec import GridSpec\n",
    "from sklearn.model_selection import train_test_split\n",
    "from sklearn.ensemble import RandomForestClassifier\n",
    "from sklearn.neighbors import KNeighborsClassifier\n",
    "from sklearn.metrics import accuracy_score\n",
    "from sklearn.metrics import confusion_matrix, accuracy_score, precision_score, recall_score, f1_score, roc_curve, auc, ConfusionMatrixDisplay\n",
    "from sklearn.tree import DecisionTreeClassifier\n",
    "\n",
    "\n"
   ]
  },
  {
   "cell_type": "code",
   "execution_count": null,
   "id": "40ccb8cc-3576-47d8-b0c1-0d9abdb20fcf",
   "metadata": {},
   "outputs": [],
   "source": [
    "# Read in our dataframe\n",
    "arrests = pd.read_csv(\"data/NYPD_Arrests_Data__Historic__20241116.csv\")"
   ]
  },
  {
   "cell_type": "code",
   "execution_count": null,
   "id": "0c4055df-3105-4aa2-87f5-c8e2299971ab",
   "metadata": {},
   "outputs": [],
   "source": [
    "# Let's see what we're working with\n",
    "arrests.head()"
   ]
  },
  {
   "cell_type": "markdown",
   "id": "27b6e773-8fa8-4e96-82ad-9fcaa2516dd7",
   "metadata": {},
   "source": [
    "## Data Preprocessing\n",
    "As we can see from above, we have a lot of NULLs and data that we may or may not want. We'll clean this data up before doing anything involving data analysis."
   ]
  },
  {
   "cell_type": "code",
   "execution_count": null,
   "id": "a4812c1a-fe4e-412c-98a3-6bcfe967d9be",
   "metadata": {},
   "outputs": [],
   "source": [
    "null_values=arrests.isnull().sum()\n",
    "print(\"Detecting missing values:\\n\", null_values)"
   ]
  },
  {
   "cell_type": "markdown",
   "id": "75f1968d-f990-421b-a949-03a12b7761aa",
   "metadata": {},
   "source": [
    "### Unneeded columns\n",
    "Looking here, we have a column titled \"ARREST KEY\" which is likely the primary key for the database where this is stored. We don't need this column and therefore will drop it. We also don't need \"LON_LAT\" as it is just a combination of two other columns. The same can be said for X_COORD_CD and Y_COORD_CD, because these are just proxies for longitutde and latitute. Offense description is a free entry text field, and likely to contain large amounts of junk in it with no consistent pattern, so we'll get rid of that as well."
   ]
  },
  {
   "cell_type": "code",
   "execution_count": null,
   "id": "15a5a357-c29c-4ee0-8cff-54c8f29ea19f",
   "metadata": {},
   "outputs": [],
   "source": [
    "# Dropping columns\n",
    "arrests.drop(['ARREST_KEY', 'X_COORD_CD', 'Y_COORD_CD',\\\n",
    "                 'OFNS_DESC','PD_DESC','Lon_Lat', 'Latitude', 'Longitude'], axis=1, inplace=True)"
   ]
  },
  {
   "cell_type": "code",
   "execution_count": null,
   "id": "fc9975d3-5fe5-4c5f-afcf-a3fe311ad92b",
   "metadata": {},
   "outputs": [],
   "source": [
    "# Let's see how w're looking now\n",
    "null_values=arrests.isnull().sum()\n",
    "print(\"Detecting missing values:\\n\", null_values)"
   ]
  },
  {
   "cell_type": "code",
   "execution_count": null,
   "id": "54e78d72-de31-42ad-b1f7-52117a0adede",
   "metadata": {},
   "outputs": [],
   "source": [
    "arrests.shape"
   ]
  },
  {
   "cell_type": "markdown",
   "id": "b04450e3-4dc9-498f-ba79-853c59fd0422",
   "metadata": {},
   "source": [
    "### Removing NA's\n",
    "As we can see, we have nearly 6 million rows of data to work with here. Additionally, there are only at most around 40,000 NA's in the dataset. In my opinion, dropping these is an accceptable loss. A lot of these NA's are also in categorical data columns, so there's really no way to fill them accordingly."
   ]
  },
  {
   "cell_type": "code",
   "execution_count": null,
   "id": "f27530ca-ec11-4249-850e-585603ef2192",
   "metadata": {},
   "outputs": [],
   "source": [
    "# Drop any rows that have at least one null column\n",
    "arrests.dropna(how='any', inplace=True)"
   ]
  },
  {
   "cell_type": "code",
   "execution_count": null,
   "id": "b7cc06c2-982d-4159-8326-a4a941572645",
   "metadata": {},
   "outputs": [],
   "source": [
    "# Let's see how w're looking now\n",
    "null_values=arrests.isnull().sum()\n",
    "print(\"Detecting missing values:\\n\", null_values)"
   ]
  },
  {
   "cell_type": "code",
   "execution_count": null,
   "id": "5a3ce10b-65d1-451f-a3ee-52bed8fb87be",
   "metadata": {},
   "outputs": [],
   "source": [
    "arrests.shape"
   ]
  },
  {
   "cell_type": "markdown",
   "id": "e2885c46-16bb-4b32-8aaa-c38bca00d916",
   "metadata": {},
   "source": [
    "As we can see, we still have well over 5 million records to analyze after doing the NA removal, and currently no more NA's in our dataset"
   ]
  },
  {
   "cell_type": "markdown",
   "id": "14fb29f9-85a1-4468-8df5-d212583a24ea",
   "metadata": {},
   "source": [
    "### Cleaning up type mismatches and other miscellaneous preprocessing tasks"
   ]
  },
  {
   "cell_type": "code",
   "execution_count": null,
   "id": "453e353e-64b4-4cfe-a3a6-62d5c369c8fa",
   "metadata": {},
   "outputs": [],
   "source": [
    "arrests.info()"
   ]
  },
  {
   "cell_type": "markdown",
   "id": "2d3fc506-6338-4cfe-a223-5d29ea271f4d",
   "metadata": {},
   "source": [
    "Arrest date is one that specifically interests me, but I'm fairly certain that date is too granular. However **month** may not be, so I'm going to convert all of these dates to months."
   ]
  },
  {
   "cell_type": "code",
   "execution_count": null,
   "id": "97c25671-658e-4138-b58e-4897c0ca8167",
   "metadata": {},
   "outputs": [],
   "source": [
    "#Convert a date to a month\n",
    "def date_to_months(date):\n",
    "    s = date.split(\"/\")\n",
    "    if(len(s) != 3):\n",
    "        return Nan\n",
    "    else:\n",
    "        return int(s[0])\n",
    "\n",
    "arrests['ARREST_MONTH'] = arrests['ARREST_DATE'].apply(date_to_months)"
   ]
  },
  {
   "cell_type": "code",
   "execution_count": null,
   "id": "aae0c582-15fd-4de4-9c42-d461231c15b4",
   "metadata": {},
   "outputs": [],
   "source": [
    "# Let's see how we're looking now\n",
    "null_values=arrests.isnull().sum()\n",
    "print(\"Detecting missing values:\\n\", null_values)"
   ]
  },
  {
   "cell_type": "code",
   "execution_count": null,
   "id": "82718140-4144-4ff4-9835-7e0c5c0ddb2e",
   "metadata": {},
   "outputs": [],
   "source": [
    "# It looks like age group is a mess here, so we'll have to remove these junk values...\n",
    "arrests[\"AGE_GROUP\"].unique()"
   ]
  },
  {
   "cell_type": "code",
   "execution_count": null,
   "id": "44d1d135-9631-4ec2-9f67-c1b3bdb8a2f5",
   "metadata": {},
   "outputs": [],
   "source": [
    "# We only want these meaningful categories\n",
    "indices_to_drop = arrests[~(arrests[\"AGE_GROUP\"].isin(['25-44','45-64','18-24','65+', '<18']))].index\n",
    "arrests.drop(indices_to_drop, inplace = True)"
   ]
  },
  {
   "cell_type": "code",
   "execution_count": null,
   "id": "63af9e38-ef1d-49be-8da3-5dc84e7213b2",
   "metadata": {},
   "outputs": [],
   "source": [
    "# Let's see how it looks now\n",
    "arrests[\"AGE_GROUP\"].describe()"
   ]
  },
  {
   "cell_type": "code",
   "execution_count": null,
   "id": "d85cb30e-191c-4fe9-9aae-e61e95674124",
   "metadata": {},
   "outputs": [],
   "source": [
    "arrests"
   ]
  },
  {
   "cell_type": "code",
   "execution_count": null,
   "id": "a5a4716b-2da6-4fa5-b04d-2f572e5d54d1",
   "metadata": {},
   "outputs": [],
   "source": [
    "# What about jurisdiction code?\n",
    "arrests[\"PERP_RACE\"].unique()"
   ]
  },
  {
   "cell_type": "code",
   "execution_count": null,
   "id": "ff85d6be-29f7-4fbc-b03c-19c0b330bfb3",
   "metadata": {},
   "outputs": [],
   "source": [
    "# Let's get rid of the unkown and other here\n",
    "indices_to_drop = arrests[arrests[\"PERP_RACE\"].isin(['UNKNOWN', 'OTHER'])].index\n",
    "arrests.drop(indices_to_drop, inplace = True)"
   ]
  },
  {
   "cell_type": "code",
   "execution_count": null,
   "id": "018fce02-f9c2-4846-84b9-ae60a8c87078",
   "metadata": {},
   "outputs": [],
   "source": [
    "# Let's see how we did\n",
    "arrests[\"PERP_RACE\"].unique()"
   ]
  },
  {
   "cell_type": "code",
   "execution_count": null,
   "id": "ff741a65-7a94-4445-8184-5b9c321aa6af",
   "metadata": {},
   "outputs": [],
   "source": [
    "arrests.shape"
   ]
  },
  {
   "cell_type": "markdown",
   "id": "e68b5796-01f9-41cf-92b5-6a260fe6af59",
   "metadata": {},
   "source": [
    "Additionally, since we have the arrest month down, we no longer need the arrest date so we'll drop it"
   ]
  },
  {
   "cell_type": "code",
   "execution_count": null,
   "id": "6fd77208-3809-477f-b3a7-ae9251d71b31",
   "metadata": {},
   "outputs": [],
   "source": [
    "arrests.drop(['ARREST_DATE'], axis=1, inplace=True)"
   ]
  },
  {
   "cell_type": "code",
   "execution_count": null,
   "id": "5849442e-5d3d-43c4-8fba-1b4bd3091736",
   "metadata": {},
   "outputs": [],
   "source": [
    "arrests.info()"
   ]
  },
  {
   "cell_type": "markdown",
   "id": "2d5caaad-337d-46a6-9ee4-650d22ad4394",
   "metadata": {},
   "source": [
    "We can also see that JURISDICTION_CODE and PD_CD and KEY_CD are all floats, but looking at the data shows us that they all encode values like \"5.0\" and the float part is not really needed. As such, we'll convert these all to ints"
   ]
  },
  {
   "cell_type": "code",
   "execution_count": null,
   "id": "3b7de52d-35d2-47a7-880e-cd505a92b3ad",
   "metadata": {},
   "outputs": [],
   "source": [
    "arrests['PD_CD'] = arrests['PD_CD'].apply(lambda x: int(x))\n",
    "arrests['KY_CD'] = arrests['KY_CD'].apply(lambda x: int(x))\n",
    "arrests['JURISDICTION_CODE'] = arrests['JURISDICTION_CODE'].apply(lambda x: int(x))"
   ]
  },
  {
   "cell_type": "code",
   "execution_count": null,
   "id": "6f9712f7-66fc-4de6-b98a-b3d339397396",
   "metadata": {},
   "outputs": [],
   "source": [
    "arrests"
   ]
  },
  {
   "cell_type": "code",
   "execution_count": null,
   "id": "b22b8b48-9274-47ad-a051-ce1cb84facd1",
   "metadata": {},
   "outputs": [],
   "source": [
    "arrests.info()"
   ]
  },
  {
   "cell_type": "markdown",
   "id": "e4c8f518-11c2-4934-bfa4-f659e47d5e94",
   "metadata": {},
   "source": [
    "### Encoding Categorical Data\n",
    "We're almost there. Now we'll encode any/all categorical data using individual label encoders"
   ]
  },
  {
   "cell_type": "code",
   "execution_count": null,
   "id": "b8ab6f3a-0e72-40ef-8b42-8d9f9c0bfc89",
   "metadata": {},
   "outputs": [],
   "source": [
    "#Initialize\n",
    "law_code_le = preprocessing.LabelEncoder()\n",
    "law_cat_le = preprocessing.LabelEncoder()\n",
    "borough_le = preprocessing.LabelEncoder()\n",
    "age_le = preprocessing.LabelEncoder()\n",
    "sex_le = preprocessing.LabelEncoder()\n",
    "race_le = preprocessing.LabelEncoder()\n",
    "\n",
    "arrests['LAW_CODE'] = law_code_le.fit_transform(arrests['LAW_CODE'])\n",
    "arrests['LAW_CAT_CD'] = law_cat_le.fit_transform(arrests['LAW_CAT_CD'])\n",
    "arrests['ARREST_BORO'] = borough_le.fit_transform(arrests['ARREST_BORO'])\n",
    "arrests['AGE_GROUP'] = age_le.fit_transform(arrests['AGE_GROUP'])\n",
    "arrests['PERP_SEX'] = sex_le.fit_transform(arrests['PERP_SEX'])\n",
    "arrests['PERP_RACE'] = race_le.fit_transform(arrests['PERP_RACE'])"
   ]
  },
  {
   "cell_type": "code",
   "execution_count": null,
   "id": "7edfe1d3-2a81-441e-88a4-2483865189d4",
   "metadata": {},
   "outputs": [],
   "source": [
    "arrests"
   ]
  },
  {
   "cell_type": "code",
   "execution_count": null,
   "id": "4631ac8c-c0ca-4f22-8732-63718ced12d6",
   "metadata": {},
   "outputs": [],
   "source": [
    "arrests.info()"
   ]
  },
  {
   "cell_type": "markdown",
   "id": "17cf5290-2f38-445d-8f80-4c228669820f",
   "metadata": {},
   "source": [
    "## Data Visualization - Hunting for correlations & patterns"
   ]
  },
  {
   "cell_type": "code",
   "execution_count": null,
   "id": "727d655f-a701-474e-9640-bb0978a8b06b",
   "metadata": {},
   "outputs": [],
   "source": [
    "display(HTML(\"<style>.container { width:100% !important; }</style>\"))\n",
    "corr = arrests.corr(method='pearson')\n",
    "sns.set(font_scale=1)\n",
    "plt.figure(figsize=(16,12))\n",
    "sns_plot = sns.heatmap(\n",
    "    corr,        \n",
    "    cmap='RdBu_r', \n",
    "    annot=True, \n",
    "    vmin=-1, vmax=1);"
   ]
  },
  {
   "cell_type": "code",
   "execution_count": null,
   "id": "07907afb-914f-4d31-b8b5-2890d4b3203d",
   "metadata": {},
   "outputs": [],
   "source": [
    "from IPython.display import display, HTML\n",
    "display(HTML(\"<style>.container { width:100% !important; }</style>\"))\n",
    "corr = arrests.corr(method='pearson')\n",
    "sns.set(font_scale=1)\n",
    "plt.figure(figsize=(16,12))\n",
    "sns_plot = sns.heatmap(\n",
    "    corr,        \n",
    "    cmap='RdBu_r', \n",
    "    annot=True, \n",
    "    vmin=-1, vmax=1);"
   ]
  },
  {
   "cell_type": "code",
   "execution_count": null,
   "id": "90563975-2a74-4f10-b1f6-36d0e620213e",
   "metadata": {},
   "outputs": [],
   "source": [
    "columns = arrests.columns\n",
    "for idx in range(len(columns)):\n",
    "    x_value = columns[idx]\n",
    "    t_value = columns[idx].title()\n",
    "    fig = plt.figure(constrained_layout=True)\n",
    "    gs = GridSpec(2, 2, figure=fig)\n",
    "    # create sub plots as grid\n",
    "    ax1 = fig.add_subplot(gs[0, :])\n",
    "    sns.scatterplot(data=arrests,x=x_value, y='AGE_GROUP')\n",
    "    ax2 = fig.add_subplot(gs[1, 0])\n",
    "    sns.histplot(x=x_value,data=arrests,bins=16)\n",
    "    ax3 = fig.add_subplot(gs[1, 1])\n",
    "    sns.boxplot(data=arrests,x=x_value,orient='h')\n",
    " \n",
    "    # depict illustration\n",
    "    fig.suptitle(t_value)\n",
    "    print('\\n')"
   ]
  },
  {
   "cell_type": "code",
   "execution_count": null,
   "id": "ea1a2397-2ff5-4f9c-9aad-0db503148ee5",
   "metadata": {},
   "outputs": [],
   "source": [
    "arrests[\"AGE_GROUP\"].describe()"
   ]
  },
  {
   "cell_type": "code",
   "execution_count": null,
   "id": "fa7cac9f-ff3e-41b5-8239-76eb4d36bd50",
   "metadata": {},
   "outputs": [],
   "source": [
    "fig = plt.figure()\n",
    "ax = fig.add_subplot(111, projection = '3d')\n",
    "\n",
    "x = arrests['AGE_GROUP']\n",
    "y = arrests['ARREST_BORO']\n",
    "z = arrests['LAW_CAT_CD']\n",
    "\n",
    "ax.set_xlabel(\"CRASH TIME\")\n",
    "ax.set_ylabel(\"VEHICLE TYPE CODE 1\")\n",
    "ax.set_zlabel(\"NUMBER INJURED\")\n",
    "\n",
    "ax.scatter(x, y, z)"
   ]
  },
  {
   "cell_type": "markdown",
   "id": "3496c8e0-c3ee-4f59-b5c5-3efac5809bf7",
   "metadata": {},
   "source": [
    " # Author: Daniyal Khan\n",
    " ### Split the dataset: Features and Target\n"
   ]
  },
  {
   "cell_type": "code",
   "execution_count": null,
   "id": "7c84f95a",
   "metadata": {},
   "outputs": [],
   "source": [
    "#After cleaning up dataset, we split the dataset.\n",
    "X = arrests.drop(columns=[['LAW_CAT_CD', 'PD_CD', 'KY_CD']])\n",
    "y = arrests['LAW_CAT_CD']\n",
    "\n",
    "X_train, X_test, y_train, y_test = train_test_split(X, y, test_size = 0.2, random_state=45)\n",
    "\n",
    "print(\"Here is the dataset of all the features we will use to train the model\")\n",
    "print(X.shape)\n",
    "X"
   ]
  },
  {
   "cell_type": "code",
   "execution_count": null,
   "id": "e2350f79-4dce-4738-a129-4a0e653f1d11",
   "metadata": {},
   "outputs": [],
   "source": [
    "print(\"Here is the dataset of the target variable we will use to test the model\")\n",
    "print(y.shape)\n",
    "y"
   ]
  },
  {
   "cell_type": "markdown",
   "id": "880448cd-6c1a-4cfa-87a9-66383d041841",
   "metadata": {},
   "source": [
    "# Choosing prediction model:\n",
    "- We can go with the K Nearest neighbors Model because our target variable is in **discrete categories**. Not numereous(Regression). Categorical values work well classification tasks.\n",
    "- Aligns with classification task since target is predicted based on set of features.\n"
   ]
  },
  {
   "cell_type": "markdown",
   "id": "e18ec3ff-0e88-431c-b81e-c5333ecf8c3f",
   "metadata": {},
   "source": [
    "# KNN Algorithm"
   ]
  },
  {
   "cell_type": "code",
   "execution_count": null,
   "id": "8a9adba4-ae19-458b-a3ca-d1b69d87b308",
   "metadata": {},
   "outputs": [],
   "source": [
    "#Lets train the model\n",
    "model = KNeighborsClassifier(n_neighbors=13)\n",
    "model.fit(X_train, y_train)\n"
   ]
  },
  {
   "cell_type": "code",
   "execution_count": null,
   "id": "ed8bdce2-8e0d-4eb6-baa4-9f4794cdcb28",
   "metadata": {},
   "outputs": [],
   "source": [
    "#Lets do a prediction\n",
    "y_pred = model.predict(X_test)\n",
    "y_pred"
   ]
  },
  {
   "cell_type": "code",
   "execution_count": null,
   "id": "455af5af-0983-4399-97f5-e37ee28397ec",
   "metadata": {},
   "outputs": [],
   "source": [
    "#Accuracy\n",
    "accuracy = accuracy_score(y_test, y_pred)\n",
    "# Precision \n",
    "precision = precision_score(y_test, y_pred,average='weighted', zero_division=0.0) \n",
    "# Recall \n",
    "recall = recall_score(y_test, y_pred,average='weighted', zero_division=0.0) \n",
    "# Find F1 score\n",
    "f1 = f1_score(y_test, y_pred, average='weighted')\n",
    "\n",
    "print(f'Accuracy of our Decision Tree Model:{accuracy: .3f}')\n",
    "print(f'Precision of our Decision Tree Model:{precision: .3f}')\n",
    "print(f'Recall of our Decision Tree Model:{recall: .3f}')\n",
    "print(f'F1 score of our Decision Tree Model:{f1: .3f}')"
   ]
  },
  {
   "cell_type": "markdown",
   "id": "d6513496-9a31-45e1-bc72-c6530b4b657c",
   "metadata": {},
   "source": [
    "# 2nd Algorithm to use: DecisionTree"
   ]
  },
  {
   "cell_type": "code",
   "execution_count": null,
   "id": "81459cd5-6d6c-4625-945a-c1500778757d",
   "metadata": {},
   "outputs": [],
   "source": [
    "#Lets train the model\n",
    "model2 = DecisionTreeClassifier(criterion=\"entropy\", random_state=42)\n",
    "model2.fit(X_train, y_train)\n"
   ]
  },
  {
   "cell_type": "code",
   "execution_count": null,
   "id": "947f0a30-8fcc-4850-83c8-59d5fa392814",
   "metadata": {},
   "outputs": [],
   "source": [
    "#Lets do a prediction\n",
    "y_pred2 = model2.predict(X_test)\n",
    "y_pred2"
   ]
  },
  {
   "cell_type": "code",
   "execution_count": null,
   "id": "99dc3435-f73d-42d2-a604-8f75226e2a83",
   "metadata": {},
   "outputs": [],
   "source": [
    "#Accuracy\n",
    "accuracy2 = accuracy_score(y_test, y_pred2)\n",
    "# Precision \n",
    "precision2 = precision_score(y_test, y_pred2,average='weighted', zero_division=0.0) \n",
    "# Recall \n",
    "recall2 = recall_score(y_test, y_pred2,average='weighted', zero_division=0.0) \n",
    "# Find F1 score\n",
    "f12 = f1_score(y_test, y_pred2, average='weighted')\n",
    "\n",
    "print(f'Accuracy of our Decision Tree Model:{accuracy2: .3f}')\n",
    "print(f'Precision of our Decision Tree Model:{precision2: .3f}')\n",
    "print(f'Recall of our Decision Tree Model:{recall2: .3f}')\n",
    "print(f'F1 score of our Decision Tree Model:{f12: .3f}')"
   ]
  }
 ],
 "metadata": {
  "kernelspec": {
   "display_name": "Python 3 (ipykernel)",
   "language": "python",
   "name": "python3"
  },
  "language_info": {
   "codemirror_mode": {
    "name": "ipython",
    "version": 3
   },
   "file_extension": ".py",
   "mimetype": "text/x-python",
   "name": "python",
   "nbconvert_exporter": "python",
   "pygments_lexer": "ipython3",
   "version": "3.10.12"
  }
 },
 "nbformat": 4,
 "nbformat_minor": 5
}
